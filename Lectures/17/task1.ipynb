{
 "cells": [
  {
   "cell_type": "markdown",
   "id": "b50b2c9b-d435-4008-81e6-134d5f62915e",
   "metadata": {},
   "source": [
    "# Освные понятия перед началом решения 17 задания\n",
    "\n",
    "17 задание проверяет наше понимание обработки числовой последовательности.\n",
    "\n",
    "Перед разбором нам важно вспомнить следующие важные моменты обработки чисел:\n",
    "\n",
    "**Главной ахиллесовой пятой** в данной задаче является число 0.\n",
    "\n",
    "**Важные свойства нуля:**\n",
    "- 0 - это не отрицательное и не положительное число\n",
    "- 0 является чётным числом  \n",
    "- 0 кратен любому числу"
   ]
  },
  {
   "cell_type": "code",
   "execution_count": 2,
   "id": "eaacf9a5-4ab9-4f6f-be6d-c836743e7070",
   "metadata": {},
   "outputs": [
    {
     "name": "stdout",
     "output_type": "stream",
     "text": [
      "True\n",
      "True\n",
      "True\n",
      "True\n"
     ]
    }
   ],
   "source": [
    "print(0 % 5 == 0)\n",
    "print(0 % 2 == 0)\n",
    "print(0 % 52 == 0)\n",
    "print(0 % (1000-7)==0)"
   ]
  },
  {
   "cell_type": "markdown",
   "id": "84f56085-5649-4341-b00f-3fe086a20e33",
   "metadata": {},
   "source": [
    "# Поиск максимального и минимального числа\n",
    "\n",
    "Если в задаче вас просят найти минимальное число и вы решили найти его с помощью перебора, то **не стоит создавать переменную** для сравнения на минимальное значение, которая будет равна **0**.\n",
    "\n",
    "**И вот почему:**"
   ]
  },
  {
   "cell_type": "code",
   "execution_count": 4,
   "id": "60ac3efd-b819-4f32-965f-b0be210dcbbd",
   "metadata": {},
   "outputs": [
    {
     "name": "stdout",
     "output_type": "stream",
     "text": [
      "0\n"
     ]
    }
   ],
   "source": [
    "i = 0\n",
    "num = [23,52,12,78,99,32,12]\n",
    "\n",
    "for x in num:\n",
    "    i = min(i,x)\n",
    "print(i)"
   ]
  },
  {
   "cell_type": "markdown",
   "id": "3c25cc33-74f8-4bc1-a0d7-b2b0cceabdfe",
   "metadata": {},
   "source": [
    "- 0 всегда будет самым наименьшим числом и поэтому вы не сможете найти самое минимальное число в вашем списке\n",
    "\n",
    "**Это можно исправить следующими способами:**\n",
    "1) Дать значение i ~ 100_000 - этого хватит чтобы точно найти наименьшее"
   ]
  },
  {
   "cell_type": "code",
   "execution_count": 5,
   "id": "f62b1c30-49d3-41b5-9c69-8bff93480dc5",
   "metadata": {},
   "outputs": [
    {
     "name": "stdout",
     "output_type": "stream",
     "text": [
      "12\n"
     ]
    }
   ],
   "source": [
    "i = 100_000\n",
    "num = [23,52,12,78,99,32,12]\n",
    "\n",
    "for x in num:\n",
    "    i = min(i,x)\n",
    "print(i)"
   ]
  },
  {
   "cell_type": "markdown",
   "id": "e7f7d8f5-1440-4e6a-820f-2d372ef87e98",
   "metadata": {},
   "source": [
    "2) Применить min сразу к списку num"
   ]
  },
  {
   "cell_type": "code",
   "execution_count": 6,
   "id": "504fb1c7-cf8b-4add-8b5a-3a2833520ec2",
   "metadata": {},
   "outputs": [
    {
     "name": "stdout",
     "output_type": "stream",
     "text": [
      "12\n"
     ]
    }
   ],
   "source": [
    "num = [23,52,12,78,99,32,12]\n",
    "print(min(num))"
   ]
  },
  {
   "cell_type": "markdown",
   "id": "b389f5aa-af26-42af-9a17-e16dc5fd4708",
   "metadata": {},
   "source": [
    "Но 17 тип задач не так прост и вам может встретиться условие, к примеру, следующее:\n",
    "\n",
    "**\"Даны числа в диапазоне от -100_000 до 100_000. Найдите минимальное положительное число\"**\n",
    "\n",
    "И тут уже нельзя воспользоваться min в привычном виде.\n",
    "\n",
    "**Доработаем первый вариант решения** под наше новое условие. Для этого добавим проверку на положительные числа.\n",
    "\n",
    "**А положительные числа** - это те, что больше 0."
   ]
  },
  {
   "cell_type": "code",
   "execution_count": 8,
   "id": "ad6943ec-158f-4f4d-9f59-cceb9e965e24",
   "metadata": {},
   "outputs": [
    {
     "name": "stdout",
     "output_type": "stream",
     "text": [
      "32\n"
     ]
    }
   ],
   "source": [
    "i = 100_000\n",
    "num = [-23,52,-12,78,-99,32,-12]\n",
    "\n",
    "for x in num:\n",
    "    if x > 0:\n",
    "        i = min(i,x)\n",
    "print(i)"
   ]
  },
  {
   "cell_type": "markdown",
   "id": "652cf790-ce10-44b9-bffc-0780138dccfa",
   "metadata": {},
   "source": [
    "Если в первом способе всё понятно, то как быть со 2 способом?\n",
    "\n",
    "Для этого нам понадобятся более глубокие познания Python.\n",
    "\n",
    "Посмотрим на 2 строку кодом ниже:"
   ]
  },
  {
   "cell_type": "code",
   "execution_count": 9,
   "id": "e3bceef3-03a7-4876-b254-91f3cc8277ae",
   "metadata": {},
   "outputs": [
    {
     "name": "stdout",
     "output_type": "stream",
     "text": [
      "32\n"
     ]
    }
   ],
   "source": [
    "a = [-23,52,-12,78,-99,32,-12]\n",
    "res = min(filter(lambda x: x > 0, a))\n",
    "print(res)"
   ]
  },
  {
   "cell_type": "markdown",
   "id": "617e899d-44c9-465d-a440-bb6f710a9540",
   "metadata": {},
   "source": [
    "Разберёмся что к чему. Начнём с lambda.\n",
    "\n",
    "**lambda** - это ключевое слово в Python для создания анонимных функций (функций без имени).\n",
    "\n",
    "Для понимания давайте создадим функцию с именем и lambda функцию.\n",
    "\n",
    "**Обычная функция** на проверку положительности числа:\n"
   ]
  },
  {
   "cell_type": "code",
   "execution_count": 10,
   "id": "4e0be2ab-ab4f-4e1a-9dc8-2ba3a58aa396",
   "metadata": {},
   "outputs": [
    {
     "name": "stdout",
     "output_type": "stream",
     "text": [
      "True\n",
      "False\n"
     ]
    }
   ],
   "source": [
    "def is_positive(x):\n",
    "    return x > 0\n",
    "\n",
    "print(is_positive(32))\n",
    "print(is_positive(-9))"
   ]
  },
  {
   "cell_type": "markdown",
   "id": "4092ea02-fef4-42d4-a992-20ca1a6580a6",
   "metadata": {},
   "source": [
    "**А теперь lambda-функция** на проверку положительности числа:\n"
   ]
  },
  {
   "cell_type": "code",
   "execution_count": 23,
   "id": "0084683b-33cd-41ce-8b56-d8e77eca6718",
   "metadata": {},
   "outputs": [
    {
     "name": "stdout",
     "output_type": "stream",
     "text": [
      "True\n",
      "False\n"
     ]
    }
   ],
   "source": [
    "is_positive = lambda x: x > 0\n",
    "print(is_positive(32))  # True\n",
    "print(is_positive(-9)) # False"
   ]
  },
  {
   "cell_type": "markdown",
   "id": "ab586124-7849-461a-8adb-bbade7320839",
   "metadata": {},
   "source": [
    "**lambda создает анонимную (безымянную) функцию:**\n",
    "- `x` - параметр функции (каждый элемент списка)\n",
    "- `x > 0` - условие, которое возвращает True если число положительное, если неположительное False\n",
    "\n",
    "**Ключевые характеристики lambda:**\n",
    "- Анонимная - не имеет имени\n",
    "- Однострочная - может содержать только одно выражение\n",
    "- Возвращает результат автоматически (не нужно писать return)\n",
    "- Может принимать аргументы как обычная функция"
   ]
  },
  {
   "cell_type": "markdown",
   "id": "827ad913-cb08-4c87-9a2d-1e18cbfe55c1",
   "metadata": {},
   "source": [
    "**Теперь поговорим про filter.**\n",
    "\n",
    "Функция `filter()` применяет нашу лямбду к каждому элементу списка `a` и оставляет только те элементы, для которых условие вернуло `True`."
   ]
  },
  {
   "cell_type": "code",
   "execution_count": 30,
   "id": "b8db656d-36ec-48f1-b4ab-0956d4443050",
   "metadata": {},
   "outputs": [
    {
     "name": "stdout",
     "output_type": "stream",
     "text": [
      "<filter object at 0x000002294149F880>\n",
      "[52, 78, 32]\n"
     ]
    }
   ],
   "source": [
    "a = [-23,52,-12,78,-99,32,-12]\n",
    "print((filter(lambda x: x > 0, a)))\n",
    "print(list(filter(lambda x: x > 0, a)))#[52, 78, 32]"
   ]
  },
  {
   "cell_type": "markdown",
   "id": "81145b7e-601b-43bd-8d2b-58c23139919e",
   "metadata": {},
   "source": [
    "Важно помнить, что `filter` не знает, в каком типе данных вам нужно вернуть получившиеся значения.\n",
    "\n",
    "Поэтому в последней строке я добавил `list`, для того чтобы данные приобрели вид списка.\n",
    "\n",
    "Ну а теперь, когда у нас есть список только из положительных чисел, мы можем найти самое минимальное с помощью `min`."
   ]
  },
  {
   "cell_type": "code",
   "execution_count": 34,
   "id": "3bf59d72-6dfa-49f6-9f3c-d17722c7eb0b",
   "metadata": {},
   "outputs": [
    {
     "name": "stdout",
     "output_type": "stream",
     "text": [
      "32\n"
     ]
    }
   ],
   "source": [
    "a = [-23,52,-12,78,-99,32,-12]\n",
    "print(min(filter(lambda x: x > 0, a)))"
   ]
  },
  {
   "cell_type": "markdown",
   "id": "5091ad46-ad4e-408b-997d-c2b729284e61",
   "metadata": {},
   "source": [
    "**Усложним условие:** \"Даны числа в диапазоне от -100_000 до 100_000. Найдите минимальное трёхзначное число\"\n",
    "\n",
    "1) У нас есть прекрасная функция `len()`, которая применима к строке и считает количество объектов внутри, но к числу она не применима. Что ж, исправим это."
   ]
  },
  {
   "cell_type": "code",
   "execution_count": 36,
   "id": "16ce3945-6771-4a46-be68-6b7233494c8b",
   "metadata": {},
   "outputs": [
    {
     "name": "stdout",
     "output_type": "stream",
     "text": [
      "-99\n"
     ]
    }
   ],
   "source": [
    "i = 0\n",
    "num = [-23,512,-132,718,-99,322,-12]\n",
    "for x in num:\n",
    "    if  len(str(x)) == 3:\n",
    "        i = min(i,x)\n",
    "print(i)"
   ]
  },
  {
   "cell_type": "markdown",
   "id": "318912db-af58-48e5-9fb1-7274876a216f",
   "metadata": {},
   "source": [
    "Итак, и тут мы получаем неверное число. Почему же так? При переводе числа в строку вместе с ним так же переводится и знак.\n",
    "\n",
    "Поскольку положительные числа мы пишем без знака `+`, с ними проблем не будет. Но вот отрицательные числа мы всегда пишем со знаком `-`.\n",
    "\n",
    "Из-за чего число `-99` окажется трёхзначным, поскольку знак `-` посчитается тоже за объект внутри строки.\n",
    "\n",
    "Это проблема, которая ломает наше решение, но есть выход. **Функция `abs()`** - модуль числа. Исправим с помощью неё предыдущий код."
   ]
  },
  {
   "cell_type": "code",
   "execution_count": 37,
   "id": "382ab35a-456f-45ef-be3a-3dc14c10ee03",
   "metadata": {},
   "outputs": [
    {
     "name": "stdout",
     "output_type": "stream",
     "text": [
      "-132\n"
     ]
    }
   ],
   "source": [
    "i = 0\n",
    "num = [-23,512,-132,718,-99,322,-12]\n",
    "for x in num:\n",
    "    if  len(str(abs(x))) == 3:\n",
    "        i = min(i,x)\n",
    "print(i)"
   ]
  },
  {
   "cell_type": "markdown",
   "id": "06373425-2aec-4666-a7dd-569dcb158108",
   "metadata": {},
   "source": [
    "Вот теперь мы нашли наименьшее трёхзначное число.\n",
    "\n",
    "**Теперь решение через lambda-функцию:**"
   ]
  },
  {
   "cell_type": "code",
   "execution_count": 38,
   "id": "440e3fa7-24a6-410f-846e-8b3bb3a04c41",
   "metadata": {},
   "outputs": [
    {
     "name": "stdout",
     "output_type": "stream",
     "text": [
      "-132\n"
     ]
    }
   ],
   "source": [
    "num = [-23,512,-132,718,-99,322,-12]\n",
    "print(min(filter(lambda x: 100<abs(x)<1000, num)))"
   ]
  },
  {
   "cell_type": "markdown",
   "id": "e1ce4ced-575c-40df-bb47-d6861a127184",
   "metadata": {},
   "source": [
    "Тут по сути нового ничего нет, кроме записи `100 <= abs(x) < 1000`. Сначала мы, как и прежде, избавляемся от знака `-` с помощью `abs()`.\n",
    "\n",
    "После чего проверяем, находится ли число в диапазоне от 100 до 1000. Если это так, то число трёхзначное. Благодаря этому получаем только трёхзначные числа.\n",
    "\n",
    "А дальше выбираем среди трёхзначных чисел самое маленькое с помощью `min`."
   ]
  },
  {
   "cell_type": "markdown",
   "id": "5a4d766e-ce00-4860-a03d-bfb289b412d8",
   "metadata": {},
   "source": [
    "**Усложняем условие ещё больше:** \"Даны числа в диапазоне от -100_000 до 100_000. Найдите минимальное трёхзначное положительное число\""
   ]
  },
  {
   "cell_type": "code",
   "execution_count": 40,
   "id": "0eb2e4d9-3a71-447e-92ef-2db36ddbfc3b",
   "metadata": {},
   "outputs": [
    {
     "name": "stdout",
     "output_type": "stream",
     "text": [
      "322\n"
     ]
    }
   ],
   "source": [
    "i = 100_000\n",
    "num = [-23,512,-132,718,-99,322,-12]\n",
    "for x in num:\n",
    "    if  len(str(x)) == 3 and x > 0:\n",
    "        i = min(i,x)\n",
    "print(i)"
   ]
  },
  {
   "cell_type": "markdown",
   "id": "606c0b46-fdd2-422d-8e99-925605c41798",
   "metadata": {},
   "source": [
    "**lambda-функция для поиска минимального трёхзначного положительного числа:**"
   ]
  },
  {
   "cell_type": "code",
   "execution_count": 41,
   "id": "e1145153-ad26-46dd-9168-4853930ea13e",
   "metadata": {},
   "outputs": [
    {
     "name": "stdout",
     "output_type": "stream",
     "text": [
      "322\n"
     ]
    }
   ],
   "source": [
    "num = [-23,512,-132,718,-99,322,-12]\n",
    "print(min(filter(lambda x: 100<x<1000, num)))"
   ]
  },
  {
   "cell_type": "markdown",
   "id": "c2e917b6-d02c-4bb0-a381-67e567b4904e",
   "metadata": {},
   "source": [
    "**И последнее усложнение нашего условия:** \"Даны числа в диапазоне от -100_000 до 100_000. Найдите минимальное трёхзначное положительное число, сумма цифр которого будет равняться 8\"\n",
    "\n",
    "**1 способ:**"
   ]
  },
  {
   "cell_type": "code",
   "execution_count": 47,
   "id": "0db04491-e392-4fcb-a1f0-1a53e80b4136",
   "metadata": {},
   "outputs": [
    {
     "name": "stdout",
     "output_type": "stream",
     "text": [
      "512\n"
     ]
    }
   ],
   "source": [
    "i = 100_000\n",
    "num = [-23,512,-132,718,-99,322,-12]\n",
    "for x in num:\n",
    "    if  len(str(x)) == 3 and x > 0 and sum(map(int,str(x)))==8:\n",
    "        i = min(i,x)\n",
    "print(i)"
   ]
  },
  {
   "cell_type": "markdown",
   "id": "f76d737c-754c-4d47-8283-7d34ee1bb5d0",
   "metadata": {},
   "source": [
    "**Алгоритм решения:**\n",
    "\n",
    "1. Берём число по модулю: `abs(x)`\n",
    "2. Переводим в строку: `str(abs(x))`\n",
    "3. Преобразуем все символы в числа с помощью `map`: `map(int,(str(abs(x))))`\n",
    "4. Складываем числа между собой: `sum(map(int,(str(abs(x)))))`\n",
    "5. Проверяем, что сумма равняется 8"
   ]
  },
  {
   "cell_type": "markdown",
   "id": "472557bd-e3d4-47c4-b7b1-446895126d73",
   "metadata": {},
   "source": [
    "**Решение с помощью lambda-функции:**"
   ]
  },
  {
   "cell_type": "code",
   "execution_count": 46,
   "id": "932e3f8d-2f72-488c-ba47-7ad50142fbf0",
   "metadata": {},
   "outputs": [
    {
     "name": "stdout",
     "output_type": "stream",
     "text": [
      "512\n"
     ]
    }
   ],
   "source": [
    "num = [-23,512,-132,718,-99,322,-12]\n",
    "print(min(filter(lambda x: 100<x<1000 and sum(map(int,str(x)))==8, num)))"
   ]
  },
  {
   "cell_type": "markdown",
   "id": "bee96463-5426-437c-a817-cbf8d9fc0bb9",
   "metadata": {},
   "source": [
    "**Как выполнять подобные условия - решайте сами.** Главное, чтобы код, который вы пишете, был вам понятен."
   ]
  },
  {
   "cell_type": "markdown",
   "id": "2ae4275d-3d98-4a28-bff9-5e92d57f87c8",
   "metadata": {},
   "source": [
    "**Перейдём к рассмотрению задач**"
   ]
  }
 ],
 "metadata": {
  "kernelspec": {
   "display_name": "Python 3 (ipykernel)",
   "language": "python",
   "name": "python3"
  },
  "language_info": {
   "codemirror_mode": {
    "name": "ipython",
    "version": 3
   },
   "file_extension": ".py",
   "mimetype": "text/x-python",
   "name": "python",
   "nbconvert_exporter": "python",
   "pygments_lexer": "ipython3",
   "version": "3.13.5"
  }
 },
 "nbformat": 4,
 "nbformat_minor": 5
}
