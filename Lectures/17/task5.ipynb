{
 "cells": [
  {
   "cell_type": "markdown",
   "id": "b3267ab6-6aa0-414e-8f95-345c661242aa",
   "metadata": {},
   "source": [
    "# Разбор 17 задачи (уровень: Средний)\n",
    "\n",
    "В файле содержится последовательность целых чисел. Её элементы могут принимать целые значения от -100 000 до 100 000 включительно. Определите количество пар последовательности, в которых элементы не равны, а абсолютное значение их разности делится на минимальный положительный элемент последовательности, кратный 35. Гарантируется, что такой элемент последовательности есть. В ответе запишите количество найденных пар, затем максимальную из сумм элементов таких пар.\n",
    "\n",
    "В данной задаче под парой подразумевается два идущих подряд элемента последовательности.\n",
    "\n",
    "Файлы к заданию: https://kompege.ru/files/vD4rZ97Rs.txt"
   ]
  },
  {
   "cell_type": "code",
   "execution_count": 10,
   "id": "a487e9b8-2178-4cd5-9789-1ade83058f57",
   "metadata": {},
   "outputs": [],
   "source": [
    "file = [int(x) for x in open('17_23563.txt').readlines()]\n"
   ]
  },
  {
   "cell_type": "markdown",
   "id": "6a8fad23-a440-4296-97b3-6844af239dc2",
   "metadata": {},
   "source": [
    "**\"Определите количество пар последовательности, в которых элементы не равны, а абсолютное значение их разности делится на минимальный положительный элемент последовательности, кратный 35.\"**\n",
    "\n",
    "**1) Находим минимальный положительный элемент последовательности, кратный 35:**"
   ]
  },
  {
   "cell_type": "code",
   "execution_count": 3,
   "id": "d4b9d4c2-dd6a-4c9d-9187-9ef491107152",
   "metadata": {},
   "outputs": [
    {
     "name": "stdout",
     "output_type": "stream",
     "text": [
      "210\n"
     ]
    }
   ],
   "source": [
    "mn = min(filter(lambda x: x % 35 == 0 and x > 0, file))\n",
    "print(mn)"
   ]
  },
  {
   "cell_type": "markdown",
   "id": "249f9a37-8bed-4d30-bf3f-85cc09488179",
   "metadata": {},
   "source": [
    "**2) Определяем количество пар последовательности, в которых элементы не равны:**"
   ]
  },
  {
   "cell_type": "code",
   "execution_count": 16,
   "id": "59080ba1-10e4-4061-84f6-c7f794773be3",
   "metadata": {},
   "outputs": [
    {
     "name": "stdout",
     "output_type": "stream",
     "text": [
      "10078\n"
     ]
    }
   ],
   "source": [
    "c= 0\n",
    "for i in range(len(file)-1):\n",
    "    num1 = file[i]\n",
    "    num2 = file[i+1]\n",
    "    if num1 != num2:\n",
    "        c+=1\n",
    "print(c)"
   ]
  },
  {
   "cell_type": "markdown",
   "id": "d0a90a92-c6d0-449c-bba5-09e726c60997",
   "metadata": {},
   "source": [
    "**3) Абсолютное значение их разности делится на минимальный положительный элемент последовательности, кратный 35:**\n"
   ]
  },
  {
   "cell_type": "code",
   "execution_count": 17,
   "id": "8d61179b-27f1-4300-a2ef-d6a57d458b13",
   "metadata": {},
   "outputs": [
    {
     "name": "stdout",
     "output_type": "stream",
     "text": [
      "87\n"
     ]
    }
   ],
   "source": [
    "c= 0\n",
    "for i in range(len(file)-1):\n",
    "    num1 = file[i]\n",
    "    num2 = file[i+1]\n",
    "    if num1 != num2 and abs(num1-num2) % mn == 0:\n",
    "        c+=1\n",
    "print(c)"
   ]
  },
  {
   "cell_type": "markdown",
   "id": "8303f8a8-77a7-445f-a61f-c553a6b78a55",
   "metadata": {},
   "source": [
    "**4) Определите количество пар последовательности, в которых элементы не равны, а абсолютное значение их разности делится на минимальный положительный элемент последовательности, кратный 35. В ответе запишите количество найденных пар, затем максимальную из сумм элементов таких пар.**"
   ]
  },
  {
   "cell_type": "code",
   "execution_count": 9,
   "id": "7b839980-e297-40b0-ac44-5135fec518c2",
   "metadata": {},
   "outputs": [
    {
     "name": "stdout",
     "output_type": "stream",
     "text": [
      "87 184328\n"
     ]
    }
   ],
   "source": [
    "# Создаем пустой список для хранения сумм подходящих пар\n",
    "c = []\n",
    "\n",
    "# Цикл по всем соседним парам элементов в списке\n",
    "for i in range(len(file)-1):\n",
    "    num1 = file[i]           # Получаем текущий элемент\n",
    "    num2 = file[i+1]         # Получаем следующий элемент\n",
    "    \n",
    "    # Проверяем три условия:\n",
    "    # 1. Числа не равны друг другу (num1 != num2)\n",
    "    # 2. Абсолютная разность чисел делится нацело на mn (abs(num1-num2) % mn == 0)\n",
    "    if num1 != num2 and abs(num1 - num2) % mn == 0:\n",
    "        # Если оба условия выполнены, добавляем сумму чисел в список\n",
    "        c.append(num1 + num2)\n",
    "\n",
    "# Выводим количество найденных пар и максимальную сумму среди них\n",
    "print(len(c), max(c))"
   ]
  }
 ],
 "metadata": {
  "kernelspec": {
   "display_name": "Python 3 (ipykernel)",
   "language": "python",
   "name": "python3"
  },
  "language_info": {
   "codemirror_mode": {
    "name": "ipython",
    "version": 3
   },
   "file_extension": ".py",
   "mimetype": "text/x-python",
   "name": "python",
   "nbconvert_exporter": "python",
   "pygments_lexer": "ipython3",
   "version": "3.13.5"
  }
 },
 "nbformat": 4,
 "nbformat_minor": 5
}
